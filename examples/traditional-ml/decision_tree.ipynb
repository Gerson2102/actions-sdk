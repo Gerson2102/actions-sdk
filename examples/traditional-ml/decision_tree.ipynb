{
 "cells": [
  {
   "cell_type": "markdown",
   "metadata": {},
   "source": [
    "# Traditional ML Models for ZKML: Decision Tree\n",
    "\n",
    "*In this series of tutorial, we delve into the world of traditional machine learning models for ZKML. Despite the hype surrounding advanced AI techniques, traditional ML models often offer superior performance or sufficiently robust results for specific applications. This is particularly true for ZKML use cases, where computational proof costs can be a critical factor. Our aim is to equip you with guides on how to implement machine learning algorithms suitable for Giza platform applications. This includes practical steps for converting your scikit-learn models to the ONNX format, transpiling them to Orion Cairo, and deploying inference endpoints for prediction in AI Action.*\n",
    "\n",
    "In this tutorial you will learn how to use the Giza tools though a Decision Tree model."
   ]
  },
  {
   "cell_type": "markdown",
   "metadata": {},
   "source": [
    "## Before Starting\n",
    "Before we start, ensure you installed the Giza stack, created a user and logged-in. "
   ]
  },
  {
   "cell_type": "code",
   "execution_count": null,
   "metadata": {
    "vscode": {
     "languageId": "shellscript"
    }
   },
   "outputs": [],
   "source": [
    "! pipx install giza-cli # Install the Giza-CLI\n",
    "! pip install giza-actions # Install the AI Actions SDK\n",
    "\n",
    "! giza users create # Create a user\n",
    "! giza users login # Login to your account\n",
    "! giza users create-api-key # Create an API key. We recommend you do this so you don't have to reconnect."
   ]
  },
  {
   "cell_type": "markdown",
   "metadata": {},
   "source": [
    "## Create and Train a Decision Tree Model\n",
    "We'll start by creating a simple decision tree model using Scikit-Learn and train on iris dataset. We will then use [Hummingbirds](https://github.com/microsoft/hummingbird) library to convert the model to torch graphs."
   ]
  },
  {
   "cell_type": "code",
   "execution_count": 1,
   "metadata": {},
   "outputs": [],
   "source": [
    "import json\n",
    "import numpy as np\n",
    "from sklearn.datasets import load_iris\n",
    "from sklearn.model_selection import train_test_split\n",
    "from sklearn.tree import DecisionTreeClassifier as De\n",
    "from hummingbird.ml import convert\n",
    "import torch\n",
    "import os\n",
    "\n",
    "\n",
    "\n",
    "iris = load_iris()\n",
    "X, y = iris.data, iris.target\n",
    "X = X.astype(np.float32)\n",
    "X_train, X_test, y_train, y_test = train_test_split(X, y)\n",
    "clr = De()\n",
    "clr.fit(X_train, y_train)\n",
    "\n",
    "model = convert(clr, \"torch\", X_test[:1]).model"
   ]
  },
  {
   "cell_type": "markdown",
   "metadata": {},
   "source": [
    "## Convert the Model to ONNX Format\n",
    "Giza only supports ONNX models so you'll need to convert the model to ONNX format. After the model is trained, you can convert it to ONNX format."
   ]
  },
  {
   "cell_type": "code",
   "execution_count": 3,
   "metadata": {},
   "outputs": [],
   "source": [
    "import torch.onnx\n",
    "\n",
    "input_sample = torch.from_numpy(X_test[:1])\n",
    "\n",
    "# Specify the path to save the ONNX model\n",
    "onnx_model_path = \"decision_tree.onnx\"\n",
    "\n",
    "# Export the model\n",
    "torch.onnx.export(model,\n",
    "                  input_sample,\n",
    "                  onnx_model_path,     # where to save the model\n",
    "                  export_params=True,  # store the trained parameter weights inside the model file\n",
    "                  opset_version=17,    # the ONNX version to export the model to\n",
    "                  do_constant_folding=True,  # whether to execute constant folding for optimization\n",
    "                  input_names=['input'],   # the model's input names\n",
    "                  output_names=['output'],  # the model's output names\n",
    "                  dynamic_axes={'input': {0: 'batch_size'},  # variable length axes\n",
    "                                'output': {0: 'batch_size'}})"
   ]
  },
  {
   "cell_type": "markdown",
   "metadata": {},
   "source": [
    "## Transpile your model to Orion Cairo\n",
    "\n",
    "We will use Giza-CLI to transpile our ONNX model to Orion Cairo."
   ]
  },
  {
   "cell_type": "code",
   "execution_count": 3,
   "metadata": {
    "vscode": {
     "languageId": "shellscript"
    }
   },
   "outputs": [
    {
     "name": "stdout",
     "output_type": "stream",
     "text": [
      "\u001b[1;33m[\u001b[0m\u001b[33mgiza\u001b[0m\u001b[1;33m]\u001b[0m\u001b[1m[\u001b[0m\u001b[1;36m2024\u001b[0m-\u001b[1;36m03\u001b[0m-\u001b[1;36m19\u001b[0m \u001b[1;92m10:43:11\u001b[0m.\u001b[1;36m351\u001b[0m\u001b[1m]\u001b[0m No model id provided, checking if model exists ✅\n",
      "\u001b[1;33m[\u001b[0m\u001b[33mgiza\u001b[0m\u001b[1;33m]\u001b[0m\u001b[1m[\u001b[0m\u001b[1;36m2024\u001b[0m-\u001b[1;36m03\u001b[0m-\u001b[1;36m19\u001b[0m \u001b[1;92m10:43:11\u001b[0m.\u001b[1;36m354\u001b[0m\u001b[1m]\u001b[0m Model name is: linear_regression\n",
      "\u001b[2K\u001b[1;33m[\u001b[0m\u001b[33mgiza\u001b[0m\u001b[1;33m]\u001b[0m\u001b[1m[\u001b[0m\u001b[1;36m2024\u001b[0m-\u001b[1;36m03\u001b[0m-\u001b[1;36m19\u001b[0m \u001b[1;92m10:43:11\u001b[0m.\u001b[1;36m586\u001b[0m\u001b[1m]\u001b[0m Model Created with id -> \u001b[1;36m447\u001b[0m! ✅\n",
      "\u001b[2K\u001b[1;33m[\u001b[0m\u001b[33mgiza\u001b[0m\u001b[1;33m]\u001b[0m\u001b[1m[\u001b[0m\u001b[1;36m2024\u001b[0m-\u001b[1;36m03\u001b[0m-\u001b[1;36m19\u001b[0m \u001b[1;92m10:43:12\u001b[0m.\u001b[1;36m093\u001b[0m\u001b[1m]\u001b[0m Version Created with id -> \u001b[1;36m1\u001b[0m! ✅\n",
      "\u001b[2K\u001b[1;33m[\u001b[0m\u001b[33mgiza\u001b[0m\u001b[1;33m]\u001b[0m\u001b[1m[\u001b[0m\u001b[1;36m2024\u001b[0m-\u001b[1;36m03\u001b[0m-\u001b[1;36m19\u001b[0m \u001b[1;92m10:43:12\u001b[0m.\u001b[1;36m094\u001b[0m\u001b[1m]\u001b[0m Sending model for transpilation ✅ \n",
      "\u001b[2K\u001b[1;33m[\u001b[0m\u001b[33mgiza\u001b[0m\u001b[1;33m]\u001b[0m\u001b[1m[\u001b[0m\u001b[1;36m2024\u001b[0m-\u001b[1;36m03\u001b[0m-\u001b[1;36m19\u001b[0m \u001b[1;92m10:43:43\u001b[0m.\u001b[1;36m185\u001b[0m\u001b[1m]\u001b[0m Transpilation is fully compatible. Version compiled and Sierra is saved at Giza ✅\n",
      "\u001b[2K\u001b[32m⠧\u001b[0m Transpiling Model...\n",
      "\u001b[1A\u001b[2K\u001b[1;33m[\u001b[0m\u001b[33mgiza\u001b[0m\u001b[1;33m]\u001b[0m\u001b[1m[\u001b[0m\u001b[1;36m2024\u001b[0m-\u001b[1;36m03\u001b[0m-\u001b[1;36m19\u001b[0m \u001b[1;92m10:43:43\u001b[0m.\u001b[1;36m723\u001b[0m\u001b[1m]\u001b[0m Downloading model ✅\n",
      "\u001b[1;33m[\u001b[0m\u001b[33mgiza\u001b[0m\u001b[1;33m]\u001b[0m\u001b[1m[\u001b[0m\u001b[1;36m2024\u001b[0m-\u001b[1;36m03\u001b[0m-\u001b[1;36m19\u001b[0m \u001b[1;92m10:43:43\u001b[0m.\u001b[1;36m731\u001b[0m\u001b[1m]\u001b[0m model saved at: verifiable_lr\n"
     ]
    }
   ],
   "source": [
    "! giza transpile decision_tree.onnx --output-path verifiable_dt"
   ]
  },
  {
   "cell_type": "markdown",
   "metadata": {},
   "source": [
    "## Deploy an inference endpoint\n",
    "\n",
    "Now that our model is transpiled to Cairo we can deploy an endpoint to run verifiable inferences. We will use Giza CLI again to run deploy an endpoint.\n",
    "Ensure to replace `model-id` and `version-id` with your ids provided during transpilation."
   ]
  },
  {
   "cell_type": "code",
   "execution_count": 4,
   "metadata": {
    "vscode": {
     "languageId": "shellscript"
    }
   },
   "outputs": [
    {
     "name": "stdout",
     "output_type": "stream",
     "text": [
      "\u001b[2K▰▱▱▱▱▱▱ Creating endpoint!t!\n",
      "\u001b[?25h\u001b[1;33m[\u001b[0m\u001b[33mgiza\u001b[0m\u001b[1;33m]\u001b[0m\u001b[1m[\u001b[0m\u001b[1;36m2024\u001b[0m-\u001b[1;36m03\u001b[0m-\u001b[1;36m19\u001b[0m \u001b[1;92m10:51:48\u001b[0m.\u001b[1;36m551\u001b[0m\u001b[1m]\u001b[0m Endpoint is successful ✅\n",
      "\u001b[1;33m[\u001b[0m\u001b[33mgiza\u001b[0m\u001b[1;33m]\u001b[0m\u001b[1m[\u001b[0m\u001b[1;36m2024\u001b[0m-\u001b[1;36m03\u001b[0m-\u001b[1;36m19\u001b[0m \u001b[1;92m10:51:48\u001b[0m.\u001b[1;36m557\u001b[0m\u001b[1m]\u001b[0m Endpoint created with id -> \u001b[1;36m109\u001b[0m ✅\n",
      "\u001b[1;33m[\u001b[0m\u001b[33mgiza\u001b[0m\u001b[1;33m]\u001b[0m\u001b[1m[\u001b[0m\u001b[1;36m2024\u001b[0m-\u001b[1;36m03\u001b[0m-\u001b[1;36m19\u001b[0m \u001b[1;92m10:51:48\u001b[0m.\u001b[1;36m558\u001b[0m\u001b[1m]\u001b[0m Endpoint created with endpoint URL: \u001b[4;94mhttps://endpoint-raphael-doukhan-447-1-a09e4e6f-7i3yxzspbq-ew.a.run.app\u001b[0m 🎉\n"
     ]
    }
   ],
   "source": [
    "! giza endpoints deploy --model-id 447 --version-id 1"
   ]
  },
  {
   "cell_type": "markdown",
   "metadata": {},
   "source": [
    "## Run a verifiable inference in AI Actions\n",
    "\n",
    "To streamline verifiable inference, you might consider using the endpoint URL obtained after transpilation. However, this approach requires manual serialization of the input for the Cairo program and handling the deserialization process. To make this process more user-friendly and keep you within a Python environment, we've introduced AI Actions—a Python SDK designed to facilitate the creation of ML workflows and execution of verifiable predictions. When you initiate a prediction, our system automatically retrieves the endpoint URL you deployed earlier, converts your input into Cairo-compatible format, executes the prediction, and then converts the output back into a numpy object. More info about [AI Actions here.](https://actions.gizatech.xyz/)"
   ]
  },
  {
   "cell_type": "markdown",
   "metadata": {},
   "source": [
    "First ensure you have an AI Actions workspace created. This step grants access to a user-friendly UI dashboard, enabling you to monitor and manage workflows with ease."
   ]
  },
  {
   "cell_type": "code",
   "execution_count": 6,
   "metadata": {
    "vscode": {
     "languageId": "shellscript"
    }
   },
   "outputs": [
    {
     "name": "stdout",
     "output_type": "stream",
     "text": [
      "\u001b[1;33m[\u001b[0m\u001b[33mgiza\u001b[0m\u001b[1;33m]\u001b[0m\u001b[1m[\u001b[0m\u001b[1;36m2024\u001b[0m-\u001b[1;36m03\u001b[0m-\u001b[1;36m19\u001b[0m \u001b[1;92m11:09:38\u001b[0m.\u001b[1;36m486\u001b[0m\u001b[1m]\u001b[0m Retrieving workspace information ✅ \n",
      "\u001b[1;33m[\u001b[0m\u001b[33mgiza\u001b[0m\u001b[1;33m]\u001b[0m\u001b[1m[\u001b[0m\u001b[1;36m2024\u001b[0m-\u001b[1;36m03\u001b[0m-\u001b[1;36m19\u001b[0m \u001b[1;92m11:09:38\u001b[0m.\u001b[1;36m610\u001b[0m\u001b[1m]\u001b[0m ✅ Workspace URL: \u001b[4;94mhttps://actions-server-raphael-doukhan-dblzzhtf5q-ew.a.run.app\u001b[0m ✅\n",
      "\u001b[1m{\u001b[0m\n",
      "  \u001b[1;34m\"url\"\u001b[0m: \u001b[32m\"https://actions-server-raphael-doukhan-dblzzhtf5q-ew.a.run.app\"\u001b[0m,\n",
      "  \u001b[1;34m\"status\"\u001b[0m: \u001b[32m\"COMPLETED\"\u001b[0m\n",
      "\u001b[1m}\u001b[0m\n"
     ]
    }
   ],
   "source": [
    "! giza workspaces get\n",
    "\n",
    "# 🚨 If you haven't set up a workspace yet, you can establish one by executing the command below:\n",
    "# `! giza workspaces create`"
   ]
  },
  {
   "cell_type": "markdown",
   "metadata": {},
   "source": [
    "Now let's run a verifiable inference with AI Actions. To design your workflow in AI Actions, you will need to define your task with `@task` decorator and then action your tasks with `@action` decorator. You can track the progress of your workflow via the workspace URL previously provided."
   ]
  },
  {
   "cell_type": "code",
   "execution_count": null,
   "metadata": {},
   "outputs": [],
   "source": [
    "from giza_actions.model import GizaModel\n",
    "from giza_actions.action import action\n",
    "from giza_actions.task import task\n",
    "\n",
    "MODEL_ID = 447  # Update with your model ID\n",
    "VERSION_ID = 1  # Update with your version ID\n",
    "\n",
    "\n",
    "@task(name=\"PredictDTModel\")\n",
    "def prediction(input, model_id, version_id):\n",
    "    model = GizaModel(id=model_id, version=version_id)\n",
    "\n",
    "    (result, proof_id) = model.predict(\n",
    "        input_feed={'input': input}, verifiable=True\n",
    "    )\n",
    "\n",
    "    return result, proof_id\n",
    "\n",
    "\n",
    "@action(name=\"ExectuteCairoDT\", log_prints=True)\n",
    "def execution():\n",
    "    # The input data type should match the model's expected input\n",
    "    input = np.array([[5.5]]).astype(np.float32)\n",
    "\n",
    "    (result, proof_id) = prediction(input, MODEL_ID, VERSION_ID)\n",
    "\n",
    "    print(\n",
    "        f\"Predicted value for input {input.flatten()[0]} is {result[0].flatten()[0]}\")\n",
    "\n",
    "    return result, proof_id\n",
    "\n",
    "\n",
    "execution()"
   ]
  },
  {
   "cell_type": "markdown",
   "metadata": {},
   "source": [
    "## Download the proof\n",
    "\n",
    "Initiating a verifiable inference sets off a proving job on our server, sparing you the complexities of installing and configuring the prover yourself. Upon completion, you can download your proof."
   ]
  },
  {
   "cell_type": "markdown",
   "metadata": {},
   "source": [
    "First, let's check the status of the proving job to ensure that it has been completed. \n",
    "\n",
    "🚨 Remember to substitute `endpoint-id` and `proof-id` with the specific IDs assigned to you throughout this tutorial."
   ]
  },
  {
   "cell_type": "code",
   "execution_count": 15,
   "metadata": {
    "vscode": {
     "languageId": "shellscript"
    }
   },
   "outputs": [
    {
     "name": "stdout",
     "output_type": "stream",
     "text": [
      "\u001b[1;33m[\u001b[0m\u001b[33mgiza\u001b[0m\u001b[1;33m]\u001b[0m\u001b[1m[\u001b[0m\u001b[1;36m2024\u001b[0m-\u001b[1;36m03\u001b[0m-\u001b[1;36m19\u001b[0m \u001b[1;92m11:51:45\u001b[0m.\u001b[1;36m470\u001b[0m\u001b[1m]\u001b[0m Getting proof from endpoint \u001b[1;36m109\u001b[0m ✅ \n",
      "\u001b[1m{\u001b[0m\n",
      "  \u001b[1;34m\"id\"\u001b[0m: \u001b[1;36m664\u001b[0m,\n",
      "  \u001b[1;34m\"job_id\"\u001b[0m: \u001b[1;36m831\u001b[0m,\n",
      "  \u001b[1;34m\"metrics\"\u001b[0m: \u001b[1m{\u001b[0m\n",
      "    \u001b[1;34m\"proving_time\"\u001b[0m: \u001b[1;36m15.083126\u001b[0m\n",
      "  \u001b[1m}\u001b[0m,\n",
      "  \u001b[1;34m\"created_date\"\u001b[0m: \u001b[32m\"2024-03-19T10:41:11.120310\"\u001b[0m\n",
      "\u001b[1m}\u001b[0m\n"
     ]
    }
   ],
   "source": [
    "! giza endpoints get-proof --endpoint-id 109 --proof-id 3a15bca06d1f4788b36c1c54fa71ba07"
   ]
  },
  {
   "cell_type": "markdown",
   "metadata": {},
   "source": [
    "Once the proof is ready, you can download it."
   ]
  },
  {
   "cell_type": "code",
   "execution_count": 17,
   "metadata": {
    "vscode": {
     "languageId": "shellscript"
    }
   },
   "outputs": [
    {
     "name": "stdout",
     "output_type": "stream",
     "text": [
      "\u001b[1;33m[\u001b[0m\u001b[33mgiza\u001b[0m\u001b[1;33m]\u001b[0m\u001b[1m[\u001b[0m\u001b[1;36m2024\u001b[0m-\u001b[1;36m03\u001b[0m-\u001b[1;36m19\u001b[0m \u001b[1;92m11:55:49\u001b[0m.\u001b[1;36m713\u001b[0m\u001b[1m]\u001b[0m Getting proof from endpoint \u001b[1;36m109\u001b[0m ✅ \n",
      "\u001b[1;33m[\u001b[0m\u001b[33mgiza\u001b[0m\u001b[1;33m]\u001b[0m\u001b[1m[\u001b[0m\u001b[1;36m2024\u001b[0m-\u001b[1;36m03\u001b[0m-\u001b[1;36m19\u001b[0m \u001b[1;92m11:55:50\u001b[0m.\u001b[1;36m493\u001b[0m\u001b[1m]\u001b[0m Proof downloaded to zklr.proof ✅ \n"
     ]
    }
   ],
   "source": [
    "! giza endpoints download-proof --endpoint-id 109 --proof-id 3a15bca06d1f4788b36c1c54fa71ba07 --output-path zkdt.proof"
   ]
  }
 ],
 "metadata": {
  "kernelspec": {
   "display_name": "giza-actions-mYf3m_Lk-py3.11",
   "language": "python",
   "name": "python3"
  },
  "language_info": {
   "codemirror_mode": {
    "name": "ipython",
    "version": 3
   },
   "file_extension": ".py",
   "mimetype": "text/x-python",
   "name": "python",
   "nbconvert_exporter": "python",
   "pygments_lexer": "ipython3",
   "version": "3.11.6"
  }
 },
 "nbformat": 4,
 "nbformat_minor": 2
}
